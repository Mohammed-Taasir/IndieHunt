{
  "nbformat": 4,
  "nbformat_minor": 0,
  "metadata": {
    "colab": {
      "provenance": []
    },
    "kernelspec": {
      "name": "python3",
      "display_name": "Python 3"
    },
    "language_info": {
      "name": "python"
    }
  },
  "cells": [
    {
      "cell_type": "code",
      "execution_count": 1,
      "metadata": {
        "colab": {
          "base_uri": "https://localhost:8080/"
        },
        "id": "Rc-O5MiL-KsJ",
        "outputId": "d5c9386f-70df-487f-fe8e-196cc29272de"
      },
      "outputs": [
        {
          "output_type": "stream",
          "name": "stdout",
          "text": [
            "Mounted at /content/drive\n"
          ]
        }
      ],
      "source": [
        "from google.colab import drive\n",
        "drive.mount('/content/drive')"
      ]
    },
    {
      "cell_type": "code",
      "source": [
        "import pandas as pd\n",
        "\n",
        "# Load the dataset into a Pandas DataFrame\n",
        "df = pd.read_csv('/content/drive/MyDrive/IR Project/merged.csv')\n",
        "\n",
        "# Define the list of columns to keep\n",
        "columns_to_keep = [\n",
        "    'title', 'categoryName', 'address', 'neighborhood', 'street', 'city', 'postalCode', \n",
        "    'state', 'location_lat', 'location_lng', 'url', 'totalScore', 'description', 'reviewsCount',\n",
        "    \n",
        "    'peopleAlsoSearch_0_title', 'peopleAlsoSearch_1_title', 'peopleAlsoSearch_2_title', \n",
        "    'peopleAlsoSearch_3_title', 'peopleAlsoSearch_4_title', \n",
        "    \n",
        "    'reviewsTags_0_title', \n",
        "    'reviewsTags_1_title', 'reviewsTags_2_title', 'reviewsTags_3_title', \n",
        "    'reviewsTags_4_title', 'reviewsTags_5_title', 'reviewsTags_6_title', \n",
        "    'reviewsTags_7_title', 'reviewsTags_8_title', 'reviewsTags_9_title', \n",
        "              \n",
        "    'imageUrls_0', 'imageUrls_1', 'imageUrls_2', 'imageUrls_3', 'imageUrls_4', \n",
        "    'imageUrls_5', 'imageUrls_6', 'imageUrls_7', 'imageUrls_8', 'imageUrls_9', \n",
        "    'imageUrls_10', 'imageUrls_11', 'imageUrls_12', 'imageUrls_13', 'imageUrls_14',\n",
        "    'imageUrls_15', 'imageUrls_16', 'imageUrls_17', 'imageUrls_18', 'imageUrls_19',\n",
        "\n",
        "    'categories_0', 'categories_1', \n",
        "    'categories_2', 'categories_3', 'categories_4', 'categories_5', 'categories_6', \n",
        "\n",
        "    'reviews_0_text', 'reviews_1_text', \n",
        "\n",
        "    'reviewsTags_0_title', 'reviewsTags_1_title', \n",
        "    'reviewsTags_2_title', 'reviewsTags_3_title', 'reviewsTags_4_title', 'reviewsTags_5_title', \n",
        "    'reviewsTags_6_title', 'reviewsTags_7_title', 'reviewsTags_8_title', 'reviewsTags_9_title', \n",
        "    \n",
        "]\n",
        "\n",
        "\n",
        "# Filter the DataFrame to keep only the desired columns\n",
        "df_filtered = df[columns_to_keep]\n",
        "\n",
        "# Display the resulting DataFrame\n",
        "print(df_filtered.head())\n"
      ],
      "metadata": {
        "colab": {
          "base_uri": "https://localhost:8080/"
        },
        "id": "vO-0AJqw-6Gt",
        "outputId": "ce980ac1-3c55-4fc9-ae88-cffd4f0e0150"
      },
      "execution_count": 14,
      "outputs": [
        {
          "output_type": "stream",
          "name": "stderr",
          "text": [
            "<ipython-input-14-9887418d6c2f>:4: DtypeWarning: Columns (0,1,24,37,44,53,61,76,77,110,115,118,121,139,142,143,161,182,184,186,210,215,228,250,259,279,281,300,305,317,319,335,339,343,345,363,375,390,392,393,402,406,407,409,412,414,416,420,422,425,431,440,454,461,496,497,509,528,532,534,547,559,563,567,580,595,602,608,610,614,650,651,657,659,666,667,668,669,670,671,672,673,674,675,676,677,678,679,680,682,683,684,685,686,687,689,690,692,693,694,695,696,697,698,699,700,701,702,703,704,705,706,707,708,710,711,712,713,714,715,716,717,718,719,720,722,723,724,725,726,727,728,729,730,731,732,734,735,736,737,738,739,740,741,742,743,744,745,746,748,749,750,751,752,753,754,756,757,758,759,760,761,762,763,764,765,766,767,768,769,770,771,772,773,774,775,776,777,778,779,780,781,782,783,784,785,786,787,788,789,790,791,792,793,794,795,796,797,798,799,800,801,802,803,804,805,807,808,809,811,812,813,814,815,816,817,818,819,834,835,836,837,840,841,842,843,845,847,848,849,851,853,854,855,857,858,859,861,862,863,864,865,866,867,870,871,872,873,874,875,876,877,880,881,882,883,884,885,886,887,890,891,893,894,895,896,897,898,899,900,901,902,903,905,908,909,910,913,915,916,917,918,919,920,921,922,923,924,925,926,927,928,929,930,931,932,933,934,935,936,937,938,939,940,941,942,943,944,945,946,947,948,949,950,951,952,953,954,955,956,957,958,959,960,961,962,963,964,965,966,967,969,970,972,973,974,975,976,977,978,979,980,981,983,984,986,987,988,989,990,991,992,993,994,995,996,997,998,999,1000,1002,1003,1007,1008,1009,1010,1011,1012,1013,1014,1015,1016,1018,1019,1020,1022,1023,1024,1025,1026,1027,1028,1029,1030,1031,1032,1033,1034,1035,1036,1037,1038,1039,1041,1042,1043,1044,1045,1046,1047,1048,1049,1050,1051,1052,1053,1054,1055,1056,1057,1058,1059,1060,1061,1062,1063,1064,1065,1066,1067,1068,1069,1070,1071,1072,1073,1074,1075,1076,1078,1079,1081,1082,1083,1085,1086,1087,1088,1089,1090,1091,1092,1093,1094,1095,1096,1097,1098,1099,1100,1101,1102,1103,1104,1105,1106,1107,1108,1109,1110,1112,1113,1114,1115,1116,1117,1118,1119,1120,1121,1122,1123,1124,1125,1126,1127,1128,1129,1130,1132,1133,1134,1135,1136,1137,1138,1139,1141,1142,1143,1144,1146,1147,1148,1149,1150,1151,1152,1153,1154,1155,1156,1157,1158,1160,1161,1162,1163,1164,1165,1166,1167,1168,1169,1170,1171,1172,1173,1178,1179,1180,1181,1182,1183,1184,1185,1186,1187,1188,1189,1190,1191) have mixed types. Specify dtype option on import or set low_memory=False.\n",
            "  df = pd.read_csv('/content/drive/MyDrive/IR Project/merged.csv')\n"
          ]
        },
        {
          "output_type": "stream",
          "name": "stdout",
          "text": [
            "                                        title         categoryName  \\\n",
            "0                                    Tungnath     Place of worship   \n",
            "1                   Jim Corbett National Park        National park   \n",
            "2                             Malsi Deer Park                 Park   \n",
            "3                       Ram Jhoola Ganga Ghat   Tourist attraction   \n",
            "4  Kanvashram “Birth Place of Emperor Bharat”  Historical landmark   \n",
            "\n",
            "                                             address  \\\n",
            "0             Rudraprayag, Uttarakhand 246419, India   \n",
            "1  Nainital District, Ramnagar, Uttarakhand 24471...   \n",
            "2  93QG+86Q, Diversion, Mussoorie Rd, Dehradun, U...   \n",
            "3  48C7+QJX, Swarg Ashram, Rishikesh, Uttarakhand...   \n",
            "4  Chokighata, Kanvashram Rd, Kotdwar, Uttarakhan...   \n",
            "\n",
            "                        neighborhood                             street  \\\n",
            "0                                  0                                  0   \n",
            "1                  Nainital District                  Nainital District   \n",
            "2  93QG+86Q, Diversion, Mussoorie Rd  93QG+86Q, Diversion, Mussoorie Rd   \n",
            "3                           48C7+QJX                           48C7+QJX   \n",
            "4          Chokighata, Kanvashram Rd          Chokighata, Kanvashram Rd   \n",
            "\n",
            "          city  postalCode        state  location_lat  location_lng  ...  \\\n",
            "0  Rudraprayag         0.0  Uttarakhand     30.488700     79.217021  ...   \n",
            "1     Ramnagar    244715.0  Uttarakhand     29.530014     78.774660  ...   \n",
            "2     Dehradun    248009.0  Uttarakhand     30.388333     78.075605  ...   \n",
            "3    Rishikesh    249304.0  Uttarakhand     30.121983     78.314110  ...   \n",
            "4      Kotdwar    246149.0  Uttarakhand     29.792678     78.459305  ...   \n",
            "\n",
            "  reviewsTags_0_title  reviewsTags_1_title reviewsTags_2_title  \\\n",
            "0               shiva                 trek                snow   \n",
            "1               march                tiger              jungle   \n",
            "2            aquarium            crocodile              ticket   \n",
            "3           beautiful             peaceful              bridge   \n",
            "4            peaceful            beautiful              nature   \n",
            "\n",
            "   reviewsTags_3_title reviewsTags_4_title reviewsTags_5_title  \\\n",
            "0             altitude      mountain range            pandavas   \n",
            "1               resort                1936               belts   \n",
            "2               cactus             aquatic             canteen   \n",
            "3                 feel             evening          experience   \n",
            "4                 name          government               rishi   \n",
            "\n",
            "  reviewsTags_6_title reviewsTags_7_title reviewsTags_8_title  \\\n",
            "0    kedarnath temple               navel             kaurava   \n",
            "1              canter                 sal   balance of nature   \n",
            "2                 emu              aviary              nilgai   \n",
            "3                walk             temples              ashram   \n",
            "4             country          birthplace               hindu   \n",
            "\n",
            "  reviewsTags_9_title  \n",
            "0     kurukshetra war  \n",
            "1         mango trees  \n",
            "2            commando  \n",
            "3           ram jhula  \n",
            "4          holy place  \n",
            "\n",
            "[5 rows x 68 columns]\n"
          ]
        }
      ]
    },
    {
      "cell_type": "code",
      "source": [
        "df_filtered.columns"
      ],
      "metadata": {
        "colab": {
          "base_uri": "https://localhost:8080/"
        },
        "id": "fq3qo7b8AbR6",
        "outputId": "bd56e50a-00f8-4899-90ed-71ddf97ba173"
      },
      "execution_count": 15,
      "outputs": [
        {
          "output_type": "execute_result",
          "data": {
            "text/plain": [
              "Index(['title', 'categoryName', 'address', 'neighborhood', 'street', 'city',\n",
              "       'postalCode', 'state', 'location_lat', 'location_lng', 'url',\n",
              "       'totalScore', 'description', 'reviewsCount', 'peopleAlsoSearch_0_title',\n",
              "       'peopleAlsoSearch_1_title', 'peopleAlsoSearch_2_title',\n",
              "       'peopleAlsoSearch_3_title', 'peopleAlsoSearch_4_title',\n",
              "       'reviewsTags_0_title', 'reviewsTags_1_title', 'reviewsTags_2_title',\n",
              "       'reviewsTags_3_title', 'reviewsTags_4_title', 'reviewsTags_5_title',\n",
              "       'reviewsTags_6_title', 'reviewsTags_7_title', 'reviewsTags_8_title',\n",
              "       'reviewsTags_9_title', 'imageUrls_0', 'imageUrls_1', 'imageUrls_2',\n",
              "       'imageUrls_3', 'imageUrls_4', 'imageUrls_5', 'imageUrls_6',\n",
              "       'imageUrls_7', 'imageUrls_8', 'imageUrls_9', 'imageUrls_10',\n",
              "       'imageUrls_11', 'imageUrls_12', 'imageUrls_13', 'imageUrls_14',\n",
              "       'imageUrls_15', 'imageUrls_16', 'imageUrls_17', 'imageUrls_18',\n",
              "       'imageUrls_19', 'categories_0', 'categories_1', 'categories_2',\n",
              "       'categories_3', 'categories_4', 'categories_5', 'categories_6',\n",
              "       'reviews_0_text', 'reviews_1_text', 'reviewsTags_0_title',\n",
              "       'reviewsTags_1_title', 'reviewsTags_2_title', 'reviewsTags_3_title',\n",
              "       'reviewsTags_4_title', 'reviewsTags_5_title', 'reviewsTags_6_title',\n",
              "       'reviewsTags_7_title', 'reviewsTags_8_title', 'reviewsTags_9_title'],\n",
              "      dtype='object')"
            ]
          },
          "metadata": {},
          "execution_count": 15
        }
      ]
    },
    {
      "cell_type": "code",
      "source": [
        "# Save the dataframe to a csv file with index and named index column\n",
        "df_filtered.to_csv('output.csv', index=True, index_label='place_id')"
      ],
      "metadata": {
        "id": "_KQoXv6KBe43"
      },
      "execution_count": 16,
      "outputs": []
    },
    {
      "cell_type": "markdown",
      "source": [
        "# inverse one hot encoding reviewTags"
      ],
      "metadata": {
        "id": "D30iE2nOZB0q"
      }
    },
    {
      "cell_type": "code",
      "source": [
        "import pandas as pd\n",
        "\n",
        "# Load the dataset\n",
        "df = pd.read_csv('/content/output.csv')\n",
        "\n",
        "# Melt the reviewTag columns into a single reviewTag column\n",
        "melted_df = pd.melt(df, id_vars=['place_id'], value_vars=['reviewsTags_0_title', \n",
        "    'reviewsTags_1_title', 'reviewsTags_2_title', 'reviewsTags_3_title', \n",
        "    'reviewsTags_4_title', 'reviewsTags_5_title', 'reviewsTags_6_title', \n",
        "    'reviewsTags_7_title', 'reviewsTags_8_title', 'reviewsTags_9_title'], value_name='reviewTags')\n",
        "\n",
        "# Group by place_id and reviewTag to combine the tags for each place_id\n",
        "grouped_df = melted_df.groupby(['place_id', 'reviewTags'])['reviewTags'].count().reset_index(name='count')\n",
        "\n",
        "# Save the output to a new csv file\n",
        "grouped_df.to_csv('reviewTags.csv', index=False)\n"
      ],
      "metadata": {
        "id": "R3DttBb4DOXN"
      },
      "execution_count": 17,
      "outputs": []
    },
    {
      "cell_type": "markdown",
      "source": [
        "# inverse one hot encoding peopleAlsoSearchFor"
      ],
      "metadata": {
        "id": "J4bN-WqPdjW8"
      }
    },
    {
      "cell_type": "code",
      "source": [
        "import pandas as pd\n",
        "\n",
        "# Load the dataset\n",
        "df = pd.read_csv('/content/output.csv')\n",
        "\n",
        "# Melt the reviewTag columns into a single reviewTag column\n",
        "melted_df = pd.melt(df, id_vars=['place_id'], value_vars=['peopleAlsoSearch_0_title', 'peopleAlsoSearch_1_title', 'peopleAlsoSearch_2_title', \n",
        "    'peopleAlsoSearch_3_title', 'peopleAlsoSearch_4_title'], value_name='peopleAlsoSearchFor')\n",
        "\n",
        "# Group by place_id and reviewTag to combine the tags for each place_id\n",
        "grouped_df = melted_df.groupby(['place_id', 'peopleAlsoSearchFor'])['peopleAlsoSearchFor'].count().reset_index(name='count')\n",
        "\n",
        "# Save the output to a new csv file\n",
        "grouped_df.to_csv('peopleAlsoSearchFor.csv', index=False)\n"
      ],
      "metadata": {
        "id": "l61b9FPIZA-Y"
      },
      "execution_count": 18,
      "outputs": []
    },
    {
      "cell_type": "code",
      "source": [],
      "metadata": {
        "id": "DT0zqn91ZA73"
      },
      "execution_count": null,
      "outputs": []
    },
    {
      "cell_type": "code",
      "source": [],
      "metadata": {
        "id": "ulouJYmdZA5J"
      },
      "execution_count": null,
      "outputs": []
    },
    {
      "cell_type": "code",
      "source": [],
      "metadata": {
        "id": "7wRaKtgaZA2O"
      },
      "execution_count": null,
      "outputs": []
    }
  ]
}